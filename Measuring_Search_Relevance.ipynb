{
 "cells": [
  {
   "cell_type": "markdown",
   "id": "56bb3b2c-faeb-41ec-8499-508a8bc71b76",
   "metadata": {},
   "source": [
    "# L4: Measuring Search Relevance"
   ]
  },
  {
   "cell_type": "code",
   "execution_count": 1,
   "id": "59e0f708-8068-436d-858d-d95254e57273",
   "metadata": {
    "height": 47
   },
   "outputs": [],
   "source": [
    "import warnings\n",
    "warnings.filterwarnings('ignore')"
   ]
  },
  {
   "cell_type": "markdown",
   "id": "3795f241-4346-4049-a754-a1cd0f12d3df",
   "metadata": {},
   "source": [
    "### WANDS Annotation Dataset\n",
    "https://github.com/wayfair/WANDS/tree/main/dataset  \n",
    "\n",
    "It is a gold standard (possibly) annotation dataset  \n",
    "\n",
    "The data is stored in the dataset folder in three files:  \n",
    "  \n",
    "1. **product.csv** - Stores all candidate products, columns include:  \n",
    "a. product_id - ID of a product  \n",
    "b. product_name - String of product name  \n",
    "c. product_class - Category which product falls under  \n",
    "d. category_hierarchy - Parent categories of product, delimited by /  \n",
    "e. product_description - String description of product  \n",
    "f. product_features - | delimited string of attribute:value pairs which describe the product   \n",
    "g. rating_count - Number of user ratings for product  \n",
    "h. average_rating - Average rating the product received  \n",
    "i. review_count - Number of user reviews for product  \n",
    "    \n",
    "2. **query.csv** - Stores search queries, columns include:  \n",
    "a. query_id - unique ID for each query  \n",
    "b. query - query string  \n",
    "c. query_class - category to which the query falls under  \n",
    "  \n",
    "3. **label.csv** - Stores annotated (product,relevance judgement) pairs, columns include  \n",
    "a. id - Unique ID for each annotation    \n",
    "b. query_id - ID of the query this annotation is for    \n",
    "c. product_id - ID of the product this annotation applies to  \n",
    "d. label - Relevance label, one of 'Exact', 'Partial', or 'Irrelevant'  "
   ]
  },
  {
   "cell_type": "code",
   "execution_count": 3,
   "id": "e79d2302-3983-4e72-a6b0-262d63fd57ad",
   "metadata": {
    "height": 182
   },
   "outputs": [
    {
     "data": {
      "text/html": [
       "<div>\n",
       "<style scoped>\n",
       "    .dataframe tbody tr th:only-of-type {\n",
       "        vertical-align: middle;\n",
       "    }\n",
       "\n",
       "    .dataframe tbody tr th {\n",
       "        vertical-align: top;\n",
       "    }\n",
       "\n",
       "    .dataframe thead th {\n",
       "        text-align: right;\n",
       "    }\n",
       "</style>\n",
       "<table border=\"1\" class=\"dataframe\">\n",
       "  <thead>\n",
       "    <tr style=\"text-align: right;\">\n",
       "      <th></th>\n",
       "      <th>product_name</th>\n",
       "      <th>product_class</th>\n",
       "      <th>category hierarchy</th>\n",
       "      <th>product_description</th>\n",
       "      <th>product_features</th>\n",
       "      <th>rating_count</th>\n",
       "      <th>average_rating</th>\n",
       "      <th>review_count</th>\n",
       "    </tr>\n",
       "    <tr>\n",
       "      <th>product_id</th>\n",
       "      <th></th>\n",
       "      <th></th>\n",
       "      <th></th>\n",
       "      <th></th>\n",
       "      <th></th>\n",
       "      <th></th>\n",
       "      <th></th>\n",
       "      <th></th>\n",
       "    </tr>\n",
       "  </thead>\n",
       "  <tbody>\n",
       "    <tr>\n",
       "      <th>0</th>\n",
       "      <td>solid wood platform bed</td>\n",
       "      <td>Beds</td>\n",
       "      <td>Furniture / Bedroom Furniture / Beds &amp; Headboa...</td>\n",
       "      <td>good , deep sleep can be quite difficult to ha...</td>\n",
       "      <td>overallwidth-sidetoside:64.7|dsprimaryproducts...</td>\n",
       "      <td>15.0</td>\n",
       "      <td>4.5</td>\n",
       "      <td>15.0</td>\n",
       "    </tr>\n",
       "    <tr>\n",
       "      <th>1</th>\n",
       "      <td>all-clad 7 qt . slow cooker</td>\n",
       "      <td>Slow Cookers</td>\n",
       "      <td>Kitchen &amp; Tabletop / Small Kitchen Appliances ...</td>\n",
       "      <td>create delicious slow-cooked meals , from tend...</td>\n",
       "      <td>capacityquarts:7|producttype : slow cooker|pro...</td>\n",
       "      <td>100.0</td>\n",
       "      <td>2.0</td>\n",
       "      <td>98.0</td>\n",
       "    </tr>\n",
       "    <tr>\n",
       "      <th>2</th>\n",
       "      <td>all-clad electrics 6.5 qt . slow cooker</td>\n",
       "      <td>Slow Cookers</td>\n",
       "      <td>Kitchen &amp; Tabletop / Small Kitchen Appliances ...</td>\n",
       "      <td>prepare home-cooked meals on any schedule with...</td>\n",
       "      <td>features : keep warm setting|capacityquarts:6....</td>\n",
       "      <td>208.0</td>\n",
       "      <td>3.0</td>\n",
       "      <td>181.0</td>\n",
       "    </tr>\n",
       "    <tr>\n",
       "      <th>3</th>\n",
       "      <td>all-clad all professional tools pizza cutter</td>\n",
       "      <td>Slicers, Peelers And Graters</td>\n",
       "      <td>Browse By Brand / All-Clad</td>\n",
       "      <td>this original stainless tool was designed to c...</td>\n",
       "      <td>overallwidth-sidetoside:3.5|warrantylength : l...</td>\n",
       "      <td>69.0</td>\n",
       "      <td>4.5</td>\n",
       "      <td>42.0</td>\n",
       "    </tr>\n",
       "    <tr>\n",
       "      <th>4</th>\n",
       "      <td>baldwin prestige alcott passage knob with roun...</td>\n",
       "      <td>Door Knobs</td>\n",
       "      <td>Home Improvement / Doors &amp; Door Hardware / Doo...</td>\n",
       "      <td>the hardware has a rich heritage of delivering...</td>\n",
       "      <td>compatibledoorthickness:1.375 '' |countryofori...</td>\n",
       "      <td>70.0</td>\n",
       "      <td>5.0</td>\n",
       "      <td>42.0</td>\n",
       "    </tr>\n",
       "  </tbody>\n",
       "</table>\n",
       "</div>"
      ],
      "text/plain": [
       "                                                 product_name  \\\n",
       "product_id                                                      \n",
       "0                                     solid wood platform bed   \n",
       "1                                 all-clad 7 qt . slow cooker   \n",
       "2                     all-clad electrics 6.5 qt . slow cooker   \n",
       "3                all-clad all professional tools pizza cutter   \n",
       "4           baldwin prestige alcott passage knob with roun...   \n",
       "\n",
       "                           product_class  \\\n",
       "product_id                                 \n",
       "0                                   Beds   \n",
       "1                           Slow Cookers   \n",
       "2                           Slow Cookers   \n",
       "3           Slicers, Peelers And Graters   \n",
       "4                             Door Knobs   \n",
       "\n",
       "                                           category hierarchy  \\\n",
       "product_id                                                      \n",
       "0           Furniture / Bedroom Furniture / Beds & Headboa...   \n",
       "1           Kitchen & Tabletop / Small Kitchen Appliances ...   \n",
       "2           Kitchen & Tabletop / Small Kitchen Appliances ...   \n",
       "3                                  Browse By Brand / All-Clad   \n",
       "4           Home Improvement / Doors & Door Hardware / Doo...   \n",
       "\n",
       "                                          product_description  \\\n",
       "product_id                                                      \n",
       "0           good , deep sleep can be quite difficult to ha...   \n",
       "1           create delicious slow-cooked meals , from tend...   \n",
       "2           prepare home-cooked meals on any schedule with...   \n",
       "3           this original stainless tool was designed to c...   \n",
       "4           the hardware has a rich heritage of delivering...   \n",
       "\n",
       "                                             product_features rating_count  \\\n",
       "product_id                                                                   \n",
       "0           overallwidth-sidetoside:64.7|dsprimaryproducts...         15.0   \n",
       "1           capacityquarts:7|producttype : slow cooker|pro...        100.0   \n",
       "2           features : keep warm setting|capacityquarts:6....        208.0   \n",
       "3           overallwidth-sidetoside:3.5|warrantylength : l...         69.0   \n",
       "4           compatibledoorthickness:1.375 '' |countryofori...         70.0   \n",
       "\n",
       "           average_rating review_count  \n",
       "product_id                              \n",
       "0                     4.5         15.0  \n",
       "1                     2.0         98.0  \n",
       "2                     3.0        181.0  \n",
       "3                     4.5         42.0  \n",
       "4                     5.0         42.0  "
      ]
     },
     "execution_count": 3,
     "metadata": {},
     "output_type": "execute_result"
    }
   ],
   "source": [
    "import pandas as pd\n",
    "\n",
    "products_df = pd.read_csv(\n",
    "    \"data/wands/product.csv\",\n",
    "    sep=\"\\t\", # Tab separate columns\n",
    "    index_col=\"product_id\", # Consider it as an index\n",
    "    keep_default_na=False,  # Some products do not have a description\n",
    ")\n",
    "products_df.head()"
   ]
  },
  {
   "cell_type": "markdown",
   "id": "b08087b6-09c2-4e5d-8063-6ee72cd1e3ad",
   "metadata": {},
   "source": [
    "<p style=\"background-color:#edfbff; padding:15px; border-width:3px; border-color:#efe6ef; border-style:solid; border-radius:6px\"> For semantic search, we will choose <b>product_name</b> and <b>product_description</b> for better applicability"
   ]
  },
  {
   "cell_type": "code",
   "execution_count": 4,
   "id": "8d5379f6-be97-4dcf-98a3-060d88d4d3c6",
   "metadata": {
    "height": 30
   },
   "outputs": [],
   "source": [
    "num_products = 5000"
   ]
  },
  {
   "cell_type": "code",
   "execution_count": 5,
   "id": "ea4289b9-1761-4dce-8faf-b4be05dab0b2",
   "metadata": {
    "height": 165
   },
   "outputs": [
    {
     "data": {
      "text/plain": [
       "(5000, 384)"
      ]
     },
     "execution_count": 5,
     "metadata": {},
     "output_type": "execute_result"
    }
   ],
   "source": [
    "from sentence_transformers import SentenceTransformer\n",
    "\n",
    "model = SentenceTransformer(\"all-MiniLM-L6-v2\")\n",
    "\n",
    "product_name_embeddings = model.encode(products_df[\"product_name\"][0:num_products].tolist())\n",
    "product_name_embeddings.shape"
   ]
  },
  {
   "cell_type": "code",
   "execution_count": 6,
   "id": "6851df66-ded3-40f2-b252-c680a32921de",
   "metadata": {
    "height": 97
   },
   "outputs": [
    {
     "data": {
      "text/plain": [
       "(5000, 384)"
      ]
     },
     "execution_count": 6,
     "metadata": {},
     "output_type": "execute_result"
    }
   ],
   "source": [
    "product_description_embeddings = model.encode(products_df[\"product_description\"][0:num_products].tolist())\n",
    "product_description_embeddings.shape"
   ]
  },
  {
   "cell_type": "markdown",
   "id": "7a37469f-f754-48cb-a324-46b46f1c7f8b",
   "metadata": {},
   "source": [
    "### How `SentenceTransformer` Generates Embeddings per Sentence (RECAP)\n",
    "\n",
    "When using `SentenceTransformer`, the model encodes each product name (or sentence) as a single vector, capturing the entire sentence’s meaning. Here’s a breakdown of the process using the examples `\"Winter Jacket\"` and `\"Cozy Sweater\"`.\n",
    "\n",
    "#### Step-by-Step Process\n",
    "\n",
    "1. **Tokenization**: The model splits each product name into tokens based on its vocabulary.\n",
    "   - `\"Winter Jacket\"` → `[\"winter\", \"jacket\"]`\n",
    "   - `\"Cozy Sweater\"` → `[\"cozy\", \"sweater\"]`\n",
    "   \n",
    "   Each word (or subword, in the case of uncommon words) is represented by tokens that are mapped to unique IDs corresponding to the model’s pretrained embeddings.\n",
    "\n",
    "2. **Embedding Calculation**:\n",
    "   - After tokenization, each token is represented by an embedding from the model's vocabulary.\n",
    "   - The model combines these embeddings, typically by averaging or through weighted attention mechanisms, to produce a **single fixed-size vector** for each sentence.\n",
    "\n",
    "#### Final Output\n",
    "For each product name, a single vector represents the combined meaning of the sentence, reflecting the relationships between the tokens.\n",
    "\n",
    "### Example:\n",
    "- `\"Winter Jacket\"` results in **one embedding vector** representing the whole phrase.\n",
    "- `\"Cozy Sweater\"` results in **one embedding vector** for the entire phrase.\n",
    "\n",
    "The model does <font color=red>**not create separate embeddings**</font> for each word within a product name.\n"
   ]
  },
  {
   "cell_type": "markdown",
   "id": "5772c4de-db5e-448d-8eb1-4641c3b180b8",
   "metadata": {},
   "source": [
    "## Building the collection"
   ]
  },
  {
   "cell_type": "code",
   "execution_count": null,
   "id": "74912810-c4ef-4373-86d6-77a095ef01ec",
   "metadata": {
    "height": 386
   },
   "outputs": [],
   "source": [
    "from qdrant_client import QdrantClient, models\n",
    "\n",
    "client = QdrantClient(\"http://localhost:6333\")\n",
    "client.delete_collection(\"wands-products\")\n",
    "client.create_collection(\n",
    "    collection_name=\"wands-products\",\n",
    "    vectors_config={\n",
    "        \"product_name\": models.VectorParams(size=384, distance=models.Distance.COSINE, ),\n",
    "        \"product_description\": models.VectorParams(size=384, distance=models.Distance.COSINE,),\n",
    "    },\n",
    "    optimizers_config=models.OptimizersConfigDiff(default_segment_number=2, indexing_threshold=1000,),\n",
    ")"
   ]
  },
  {
   "cell_type": "code",
   "execution_count": 7,
   "id": "671646d9-3403-4ef7-ae20-72af7fbdad96",
   "metadata": {
    "height": 199
   },
   "outputs": [
    {
     "ename": "NameError",
     "evalue": "name 'client' is not defined",
     "output_type": "error",
     "traceback": [
      "\u001b[1;31m---------------------------------------------------------------------------\u001b[0m",
      "\u001b[1;31mNameError\u001b[0m                                 Traceback (most recent call last)",
      "Cell \u001b[1;32mIn[7], line 1\u001b[0m\n\u001b[1;32m----> 1\u001b[0m \u001b[43mclient\u001b[49m\u001b[38;5;241m.\u001b[39mupload_collection(\n\u001b[0;32m      2\u001b[0m     collection_name\u001b[38;5;241m=\u001b[39m\u001b[38;5;124m\"\u001b[39m\u001b[38;5;124mwands-products\u001b[39m\u001b[38;5;124m\"\u001b[39m,\n\u001b[0;32m      3\u001b[0m     vectors\u001b[38;5;241m=\u001b[39m{\n\u001b[0;32m      4\u001b[0m         \u001b[38;5;124m\"\u001b[39m\u001b[38;5;124mproduct_name\u001b[39m\u001b[38;5;124m\"\u001b[39m: product_name_embeddings,\n\u001b[0;32m      5\u001b[0m         \u001b[38;5;124m\"\u001b[39m\u001b[38;5;124mproduct_description\u001b[39m\u001b[38;5;124m\"\u001b[39m: product_description_embeddings,\n\u001b[0;32m      6\u001b[0m     },\n\u001b[0;32m      7\u001b[0m     payload\u001b[38;5;241m=\u001b[39mproducts_df\u001b[38;5;241m.\u001b[39mto_dict(orient\u001b[38;5;241m=\u001b[39m\u001b[38;5;124m\"\u001b[39m\u001b[38;5;124mrecords\u001b[39m\u001b[38;5;124m\"\u001b[39m), \u001b[38;5;66;03m# Converting from an existing df\u001b[39;00m\n\u001b[0;32m      8\u001b[0m     ids\u001b[38;5;241m=\u001b[39mproducts_df\u001b[38;5;241m.\u001b[39mindex\u001b[38;5;241m.\u001b[39mtolist(), \u001b[38;5;66;03m# Index of the existing df\u001b[39;00m\n\u001b[0;32m      9\u001b[0m     batch_size\u001b[38;5;241m=\u001b[39m\u001b[38;5;241m64\u001b[39m, \u001b[38;5;66;03m# The insert will be performed as batches of 64\u001b[39;00m\n\u001b[0;32m     10\u001b[0m )\n",
      "\u001b[1;31mNameError\u001b[0m: name 'client' is not defined"
     ]
    }
   ],
   "source": [
    "client.upload_collection(\n",
    "    collection_name=\"wands-products\",\n",
    "    vectors={\n",
    "        \"product_name\": product_name_embeddings,\n",
    "        \"product_description\": product_description_embeddings,\n",
    "    },\n",
    "    payload=products_df.to_dict(orient=\"records\"), # Converting from an existing df\n",
    "    ids=products_df.index.tolist(), # Index of the existing df\n",
    "    batch_size=64, # The insert will be performed as batches of 64\n",
    ")"
   ]
  },
  {
   "cell_type": "code",
   "execution_count": null,
   "id": "1e02ebb5-e9e2-4613-948a-655775249ea6",
   "metadata": {
    "height": 30
   },
   "outputs": [],
   "source": [
    "client.count(\"wands-products\") # Total count of the products"
   ]
  },
  {
   "cell_type": "code",
   "execution_count": null,
   "id": "3657ed96-81a5-409b-9502-9eaf551fe434",
   "metadata": {
    "height": 182
   },
   "outputs": [],
   "source": [
    "import time\n",
    "\n",
    "time.sleep(1.0)\n",
    "collection = client.get_collection(\"wands-products\")\n",
    "while collection.status != models.CollectionStatus.GREEN: # Green = Vector DB Index ready\n",
    "    time.sleep(1.0)\n",
    "    collection = client.get_collection(\"wands-products\")\n",
    "    \n",
    "collection # Now we access the entire set of Collections when everything is ready"
   ]
  },
  {
   "cell_type": "markdown",
   "id": "a37e2887-5722-4288-bebf-8b780a22f16e",
   "metadata": {},
   "source": [
    "## Test queries"
   ]
  },
  {
   "cell_type": "markdown",
   "id": "594c16db-ce16-4a46-9bf0-687365d65229",
   "metadata": {},
   "source": [
    "!"
   ]
  },
  {
   "cell_type": "code",
   "execution_count": null,
   "id": "daef2453-f14d-4d77-9f33-b9285bd71920",
   "metadata": {
    "height": 115
   },
   "outputs": [],
   "source": [
    "queries_df = pd.read_csv(\n",
    "    \"shared_data/WANDS/query.csv\", \n",
    "    sep=\"\\t\", \n",
    "    index_col=\"query_id\",\n",
    ")\n",
    "queries_df.head()"
   ]
  },
  {
   "cell_type": "markdown",
   "id": "50dc985b-24e4-46a6-a94c-ecee4545249a",
   "metadata": {},
   "source": [
    "## Ground truth"
   ]
  },
  {
   "cell_type": "code",
   "execution_count": null,
   "id": "455e1f41-e3a1-4366-bfac-44e6ac191aba",
   "metadata": {
    "height": 98
   },
   "outputs": [],
   "source": [
    "labels_df = pd.read_csv(\n",
    "    \"shared_data/WANDS/label.csv\", \n",
    "    sep=\"\\t\", \n",
    ")\n",
    "labels_df.sample(n=5)"
   ]
  },
  {
   "cell_type": "code",
   "execution_count": null,
   "id": "0bc73f36-ce2c-45d6-b2e6-834e7b7fe24d",
   "metadata": {
    "height": 199
   },
   "outputs": [],
   "source": [
    "relevancy_scores = {\n",
    "    \"Exact\": 10,\n",
    "    \"Partial\": 5,\n",
    "    \"Irrelevant\": 0,\n",
    "}\n",
    "\n",
    "labels_df[\"score\"] = labels_df[\"label\"].map(relevancy_scores.get)\n",
    "labels_df[\"query_id\"] = labels_df[\"query_id\"].map(lambda x: f\"query_{x}\")\n",
    "labels_df[\"product_id\"] = labels_df[\"product_id\"].map(lambda x: f\"doc_{x}\")\n",
    "labels_df.sample(n=5)"
   ]
  },
  {
   "cell_type": "markdown",
   "id": "0f5c3d1c-9ec0-43c9-a24f-12b646c4ffbc",
   "metadata": {},
   "source": [
    "## ranx"
   ]
  },
  {
   "cell_type": "code",
   "execution_count": null,
   "id": "b6c9f6ec-7612-4fc0-9de5-fe9af772e8b4",
   "metadata": {
    "height": 165
   },
   "outputs": [],
   "source": [
    "from ranx import Qrels\n",
    "\n",
    "qrels = Qrels.from_df(\n",
    "    labels_df.astype({\"query_id\": \"str\", \"product_id\": \"str\"}),\n",
    "    q_id_col=\"query_id\",\n",
    "    doc_id_col=\"product_id\", \n",
    "    score_col=\"score\",\n",
    ")"
   ]
  },
  {
   "cell_type": "markdown",
   "id": "e85e2d9f-68d7-40f6-ae33-2409df8d4888",
   "metadata": {},
   "source": [
    "### Running all the queries"
   ]
  },
  {
   "cell_type": "code",
   "execution_count": null,
   "id": "cbb4b03d-a3b8-4456-9615-3e4bf86ed19e",
   "metadata": {
    "height": 97
   },
   "outputs": [],
   "source": [
    "queries_df[\"query_embedding\"] = model.encode(\n",
    "    queries_df[\"query\"].tolist()\n",
    ").tolist()\n",
    "queries_df.sample(n=5)"
   ]
  },
  {
   "cell_type": "code",
   "execution_count": null,
   "id": "5e99b0fe-8723-4193-aec4-7af50f4d296d",
   "metadata": {
    "height": 403
   },
   "outputs": [],
   "source": [
    "from collections import defaultdict\n",
    "\n",
    "name_run_dict = defaultdict(dict)\n",
    "for id, row in queries_df.iterrows():\n",
    "    query_id = f\"query_{id}\"\n",
    "    \n",
    "    results = client.search(\n",
    "        collection_name=\"wands-products\",\n",
    "        query_vector=models.NamedVector(\n",
    "            name=\"product_name\", \n",
    "            vector=row[\"query_embedding\"]\n",
    "        ),\n",
    "        with_vectors=False,\n",
    "        with_payload=False,\n",
    "        limit=100,\n",
    "    )\n",
    "\n",
    "    for point in results:\n",
    "        document_id = f\"doc_{point.id}\"\n",
    "        name_run_dict[query_id][document_id] = point.score  \n",
    "    \n",
    "name_run_dict"
   ]
  },
  {
   "cell_type": "code",
   "execution_count": null,
   "id": "594722c8-24b0-496b-9859-943071bc7b78",
   "metadata": {
    "height": 80
   },
   "outputs": [],
   "source": [
    "from ranx import Run\n",
    "\n",
    "product_name_run = Run(name_run_dict, name=\"product_name\")"
   ]
  },
  {
   "cell_type": "code",
   "execution_count": null,
   "id": "0abca87e-db68-498e-b137-d00a77f034b3",
   "metadata": {
    "height": 420
   },
   "outputs": [],
   "source": [
    "description_run_dict = defaultdict(dict)\n",
    "for id, row in queries_df.iterrows():\n",
    "    query_id = f\"query_{id}\"\n",
    "    \n",
    "    results = client.search(\n",
    "        collection_name=\"wands-products\",\n",
    "        query_vector=models.NamedVector(\n",
    "            name=\"product_description\", \n",
    "            vector=row[\"query_embedding\"]\n",
    "        ),\n",
    "        with_vectors=False,\n",
    "        with_payload=False,\n",
    "        limit=100,\n",
    "    )\n",
    "\n",
    "    for point in results:\n",
    "        document_id = f\"doc_{point.id}\"\n",
    "        description_run_dict[query_id][document_id] = point.score \n",
    "\n",
    "product_description_run = Run(\n",
    "    description_run_dict, \n",
    "    name=\"product_description\"\n",
    ")"
   ]
  },
  {
   "cell_type": "code",
   "execution_count": null,
   "id": "ccd22755-1115-4d9a-8ddb-3f3b2128941c",
   "metadata": {
    "height": 285
   },
   "outputs": [],
   "source": [
    "from ranx import compare\n",
    "\n",
    "compare(\n",
    "    qrels=qrels,\n",
    "    runs=[\n",
    "        product_name_run, \n",
    "        product_description_run\n",
    "    ],\n",
    "    metrics=[\n",
    "        \"precision@10\", \n",
    "        \"recall@10\", \n",
    "        \"mrr@10\",\n",
    "        \"dcg@10\", \n",
    "        \"ndcg@10\",\n",
    "    ],\n",
    ")"
   ]
  },
  {
   "cell_type": "code",
   "execution_count": null,
   "id": "3bf5ca5b-3b56-4b17-b647-d91bf0a6b33e",
   "metadata": {
    "height": 30
   },
   "outputs": [],
   "source": []
  },
  {
   "cell_type": "code",
   "execution_count": null,
   "id": "963521e9-bab7-4021-b21a-4775f38c994b",
   "metadata": {
    "height": 30
   },
   "outputs": [],
   "source": []
  },
  {
   "cell_type": "code",
   "execution_count": null,
   "id": "7500af15-5de5-498b-b098-6d1554783257",
   "metadata": {
    "height": 30
   },
   "outputs": [],
   "source": []
  },
  {
   "cell_type": "code",
   "execution_count": null,
   "id": "93ffe74e-968f-4b37-ab73-5686c18a8af7",
   "metadata": {
    "height": 30
   },
   "outputs": [],
   "source": []
  },
  {
   "cell_type": "code",
   "execution_count": null,
   "id": "ee843700-b778-4af3-901c-53d420b12f51",
   "metadata": {
    "height": 30
   },
   "outputs": [],
   "source": []
  },
  {
   "cell_type": "code",
   "execution_count": null,
   "id": "720a62bb-7713-4e88-acb1-621e1da38203",
   "metadata": {
    "height": 30
   },
   "outputs": [],
   "source": []
  },
  {
   "cell_type": "code",
   "execution_count": null,
   "id": "a0b8b6fc-ccac-4e52-96a7-a3fe610b62c8",
   "metadata": {
    "height": 30
   },
   "outputs": [],
   "source": []
  }
 ],
 "metadata": {
  "kernelspec": {
   "display_name": "rag",
   "language": "python",
   "name": "rag"
  },
  "language_info": {
   "codemirror_mode": {
    "name": "ipython",
    "version": 3
   },
   "file_extension": ".py",
   "mimetype": "text/x-python",
   "name": "python",
   "nbconvert_exporter": "python",
   "pygments_lexer": "ipython3",
   "version": "3.12.5"
  }
 },
 "nbformat": 4,
 "nbformat_minor": 5
}
