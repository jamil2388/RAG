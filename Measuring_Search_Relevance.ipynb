{
 "cells": [
  {
   "cell_type": "markdown",
   "id": "56bb3b2c-faeb-41ec-8499-508a8bc71b76",
   "metadata": {},
   "source": [
    "# L4: Measuring Search Relevance"
   ]
  },
  {
   "cell_type": "code",
   "execution_count": 1,
   "id": "59e0f708-8068-436d-858d-d95254e57273",
   "metadata": {
    "height": 47
   },
   "outputs": [],
   "source": [
    "import warnings\n",
    "warnings.filterwarnings('ignore')"
   ]
  },
  {
   "cell_type": "markdown",
   "id": "3795f241-4346-4049-a754-a1cd0f12d3df",
   "metadata": {},
   "source": [
    "### WANDS Annotation Dataset\n",
    "We need to download the <font color=red>**three csv files**</font> to the <font color=red>**data/**</font> folder of this project\n",
    "\n",
    "https://github.com/wayfair/WANDS/tree/main/dataset  \n",
    "\n",
    "It is a gold standard (possibly) annotation dataset  \n",
    "\n",
    "The data is stored in the dataset folder in three files:  \n",
    "  \n",
    "1. **product.csv** - Stores all candidate products, columns include:  \n",
    "a. product_id - ID of a product  \n",
    "b. product_name - String of product name  \n",
    "c. product_class - Category which product falls under  \n",
    "d. category_hierarchy - Parent categories of product, delimited by /  \n",
    "e. product_description - String description of product  \n",
    "f. product_features - | delimited string of attribute:value pairs which describe the product   \n",
    "g. rating_count - Number of user ratings for product  \n",
    "h. average_rating - Average rating the product received  \n",
    "i. review_count - Number of user reviews for product  \n",
    "    \n",
    "2. **query.csv** - Stores search queries, columns include:  \n",
    "a. query_id - unique ID for each query  \n",
    "b. query - query string  \n",
    "c. query_class - category to which the query falls under  \n",
    "  \n",
    "3. **label.csv** - Stores annotated (product,relevance judgement) pairs, columns include  \n",
    "a. id - Unique ID for each annotation    \n",
    "b. query_id - ID of the query this annotation is for    \n",
    "c. product_id - ID of the product this annotation applies to  \n",
    "d. label - Relevance label, one of 'Exact', 'Partial', or 'Irrelevant'  "
   ]
  },
  {
   "cell_type": "code",
   "execution_count": 2,
   "id": "e79d2302-3983-4e72-a6b0-262d63fd57ad",
   "metadata": {
    "height": 182
   },
   "outputs": [
    {
     "data": {
      "text/html": [
       "<div>\n",
       "<style scoped>\n",
       "    .dataframe tbody tr th:only-of-type {\n",
       "        vertical-align: middle;\n",
       "    }\n",
       "\n",
       "    .dataframe tbody tr th {\n",
       "        vertical-align: top;\n",
       "    }\n",
       "\n",
       "    .dataframe thead th {\n",
       "        text-align: right;\n",
       "    }\n",
       "</style>\n",
       "<table border=\"1\" class=\"dataframe\">\n",
       "  <thead>\n",
       "    <tr style=\"text-align: right;\">\n",
       "      <th></th>\n",
       "      <th>product_name</th>\n",
       "      <th>product_class</th>\n",
       "      <th>category hierarchy</th>\n",
       "      <th>product_description</th>\n",
       "      <th>product_features</th>\n",
       "      <th>rating_count</th>\n",
       "      <th>average_rating</th>\n",
       "      <th>review_count</th>\n",
       "    </tr>\n",
       "    <tr>\n",
       "      <th>product_id</th>\n",
       "      <th></th>\n",
       "      <th></th>\n",
       "      <th></th>\n",
       "      <th></th>\n",
       "      <th></th>\n",
       "      <th></th>\n",
       "      <th></th>\n",
       "      <th></th>\n",
       "    </tr>\n",
       "  </thead>\n",
       "  <tbody>\n",
       "    <tr>\n",
       "      <th>0</th>\n",
       "      <td>solid wood platform bed</td>\n",
       "      <td>Beds</td>\n",
       "      <td>Furniture / Bedroom Furniture / Beds &amp; Headboa...</td>\n",
       "      <td>good , deep sleep can be quite difficult to ha...</td>\n",
       "      <td>overallwidth-sidetoside:64.7|dsprimaryproducts...</td>\n",
       "      <td>15.0</td>\n",
       "      <td>4.5</td>\n",
       "      <td>15.0</td>\n",
       "    </tr>\n",
       "    <tr>\n",
       "      <th>1</th>\n",
       "      <td>all-clad 7 qt . slow cooker</td>\n",
       "      <td>Slow Cookers</td>\n",
       "      <td>Kitchen &amp; Tabletop / Small Kitchen Appliances ...</td>\n",
       "      <td>create delicious slow-cooked meals , from tend...</td>\n",
       "      <td>capacityquarts:7|producttype : slow cooker|pro...</td>\n",
       "      <td>100.0</td>\n",
       "      <td>2.0</td>\n",
       "      <td>98.0</td>\n",
       "    </tr>\n",
       "    <tr>\n",
       "      <th>2</th>\n",
       "      <td>all-clad electrics 6.5 qt . slow cooker</td>\n",
       "      <td>Slow Cookers</td>\n",
       "      <td>Kitchen &amp; Tabletop / Small Kitchen Appliances ...</td>\n",
       "      <td>prepare home-cooked meals on any schedule with...</td>\n",
       "      <td>features : keep warm setting|capacityquarts:6....</td>\n",
       "      <td>208.0</td>\n",
       "      <td>3.0</td>\n",
       "      <td>181.0</td>\n",
       "    </tr>\n",
       "    <tr>\n",
       "      <th>3</th>\n",
       "      <td>all-clad all professional tools pizza cutter</td>\n",
       "      <td>Slicers, Peelers And Graters</td>\n",
       "      <td>Browse By Brand / All-Clad</td>\n",
       "      <td>this original stainless tool was designed to c...</td>\n",
       "      <td>overallwidth-sidetoside:3.5|warrantylength : l...</td>\n",
       "      <td>69.0</td>\n",
       "      <td>4.5</td>\n",
       "      <td>42.0</td>\n",
       "    </tr>\n",
       "    <tr>\n",
       "      <th>4</th>\n",
       "      <td>baldwin prestige alcott passage knob with roun...</td>\n",
       "      <td>Door Knobs</td>\n",
       "      <td>Home Improvement / Doors &amp; Door Hardware / Doo...</td>\n",
       "      <td>the hardware has a rich heritage of delivering...</td>\n",
       "      <td>compatibledoorthickness:1.375 '' |countryofori...</td>\n",
       "      <td>70.0</td>\n",
       "      <td>5.0</td>\n",
       "      <td>42.0</td>\n",
       "    </tr>\n",
       "  </tbody>\n",
       "</table>\n",
       "</div>"
      ],
      "text/plain": [
       "                                                 product_name  \\\n",
       "product_id                                                      \n",
       "0                                     solid wood platform bed   \n",
       "1                                 all-clad 7 qt . slow cooker   \n",
       "2                     all-clad electrics 6.5 qt . slow cooker   \n",
       "3                all-clad all professional tools pizza cutter   \n",
       "4           baldwin prestige alcott passage knob with roun...   \n",
       "\n",
       "                           product_class  \\\n",
       "product_id                                 \n",
       "0                                   Beds   \n",
       "1                           Slow Cookers   \n",
       "2                           Slow Cookers   \n",
       "3           Slicers, Peelers And Graters   \n",
       "4                             Door Knobs   \n",
       "\n",
       "                                           category hierarchy  \\\n",
       "product_id                                                      \n",
       "0           Furniture / Bedroom Furniture / Beds & Headboa...   \n",
       "1           Kitchen & Tabletop / Small Kitchen Appliances ...   \n",
       "2           Kitchen & Tabletop / Small Kitchen Appliances ...   \n",
       "3                                  Browse By Brand / All-Clad   \n",
       "4           Home Improvement / Doors & Door Hardware / Doo...   \n",
       "\n",
       "                                          product_description  \\\n",
       "product_id                                                      \n",
       "0           good , deep sleep can be quite difficult to ha...   \n",
       "1           create delicious slow-cooked meals , from tend...   \n",
       "2           prepare home-cooked meals on any schedule with...   \n",
       "3           this original stainless tool was designed to c...   \n",
       "4           the hardware has a rich heritage of delivering...   \n",
       "\n",
       "                                             product_features rating_count  \\\n",
       "product_id                                                                   \n",
       "0           overallwidth-sidetoside:64.7|dsprimaryproducts...         15.0   \n",
       "1           capacityquarts:7|producttype : slow cooker|pro...        100.0   \n",
       "2           features : keep warm setting|capacityquarts:6....        208.0   \n",
       "3           overallwidth-sidetoside:3.5|warrantylength : l...         69.0   \n",
       "4           compatibledoorthickness:1.375 '' |countryofori...         70.0   \n",
       "\n",
       "           average_rating review_count  \n",
       "product_id                              \n",
       "0                     4.5         15.0  \n",
       "1                     2.0         98.0  \n",
       "2                     3.0        181.0  \n",
       "3                     4.5         42.0  \n",
       "4                     5.0         42.0  "
      ]
     },
     "execution_count": 2,
     "metadata": {},
     "output_type": "execute_result"
    }
   ],
   "source": [
    "import pandas as pd\n",
    "\n",
    "products_df = pd.read_csv(\n",
    "    \"data/wands/product.csv\",\n",
    "    sep=\"\\t\", # Tab separated columns\n",
    "    index_col=\"product_id\", # Consider it as an index\n",
    "    keep_default_na=False,  # Some products do not have a description\n",
    ")\n",
    "products_df.head()"
   ]
  },
  {
   "cell_type": "markdown",
   "id": "b08087b6-09c2-4e5d-8063-6ee72cd1e3ad",
   "metadata": {},
   "source": [
    "<p style=\"background-color:#edfbff; padding:15px; border-width:3px; border-color:#efe6ef; border-style:solid; border-radius:6px\"> For semantic search, we will choose <b>product_name</b> and <b>product_description</b> for better applicability"
   ]
  },
  {
   "cell_type": "code",
   "execution_count": 10,
   "id": "062ac365-9e69-4dc6-ad2f-d0c054ce7cf4",
   "metadata": {
    "scrolled": true
   },
   "outputs": [
    {
     "name": "stdout",
     "output_type": "stream",
     "text": [
      "1642\n"
     ]
    }
   ],
   "source": [
    "# We have large strings in product_description column\n",
    "# This is the 6th string in the column (for demonstration)\n",
    "print(len(products_df['product_description'][5]))"
   ]
  },
  {
   "cell_type": "code",
   "execution_count": 11,
   "id": "8d5379f6-be97-4dcf-98a3-060d88d4d3c6",
   "metadata": {
    "height": 30
   },
   "outputs": [],
   "source": [
    "num_products = 5000"
   ]
  },
  {
   "cell_type": "code",
   "execution_count": 12,
   "id": "ea4289b9-1761-4dce-8faf-b4be05dab0b2",
   "metadata": {
    "height": 165
   },
   "outputs": [
    {
     "data": {
      "application/vnd.jupyter.widget-view+json": {
       "model_id": "4ef3f5bc6cf849ffa6e98a0fae705b2d",
       "version_major": 2,
       "version_minor": 0
      },
      "text/plain": [
       "modules.json:   0%|          | 0.00/349 [00:00<?, ?B/s]"
      ]
     },
     "metadata": {},
     "output_type": "display_data"
    },
    {
     "data": {
      "application/vnd.jupyter.widget-view+json": {
       "model_id": "48832d8fdd7f405b8ef51c73d3b198ae",
       "version_major": 2,
       "version_minor": 0
      },
      "text/plain": [
       "config_sentence_transformers.json:   0%|          | 0.00/116 [00:00<?, ?B/s]"
      ]
     },
     "metadata": {},
     "output_type": "display_data"
    },
    {
     "data": {
      "application/vnd.jupyter.widget-view+json": {
       "model_id": "f10e7342825e400ebaebb2ed847c6802",
       "version_major": 2,
       "version_minor": 0
      },
      "text/plain": [
       "README.md:   0%|          | 0.00/10.7k [00:00<?, ?B/s]"
      ]
     },
     "metadata": {},
     "output_type": "display_data"
    },
    {
     "data": {
      "application/vnd.jupyter.widget-view+json": {
       "model_id": "0462c27ad791449f926037b998aba8d7",
       "version_major": 2,
       "version_minor": 0
      },
      "text/plain": [
       "sentence_bert_config.json:   0%|          | 0.00/53.0 [00:00<?, ?B/s]"
      ]
     },
     "metadata": {},
     "output_type": "display_data"
    },
    {
     "data": {
      "application/vnd.jupyter.widget-view+json": {
       "model_id": "6207f6516f1f44ada88512b0492f6104",
       "version_major": 2,
       "version_minor": 0
      },
      "text/plain": [
       "config.json:   0%|          | 0.00/612 [00:00<?, ?B/s]"
      ]
     },
     "metadata": {},
     "output_type": "display_data"
    },
    {
     "data": {
      "application/vnd.jupyter.widget-view+json": {
       "model_id": "415028b29ecc4c7084d6ae3fb1c3f2b4",
       "version_major": 2,
       "version_minor": 0
      },
      "text/plain": [
       "model.safetensors:   0%|          | 0.00/90.9M [00:00<?, ?B/s]"
      ]
     },
     "metadata": {},
     "output_type": "display_data"
    },
    {
     "data": {
      "application/vnd.jupyter.widget-view+json": {
       "model_id": "38fe54146e6543e8bd903acdaa2c6c40",
       "version_major": 2,
       "version_minor": 0
      },
      "text/plain": [
       "tokenizer_config.json:   0%|          | 0.00/350 [00:00<?, ?B/s]"
      ]
     },
     "metadata": {},
     "output_type": "display_data"
    },
    {
     "data": {
      "application/vnd.jupyter.widget-view+json": {
       "model_id": "78f93afdacec4079ade81baa71a3324b",
       "version_major": 2,
       "version_minor": 0
      },
      "text/plain": [
       "vocab.txt:   0%|          | 0.00/232k [00:00<?, ?B/s]"
      ]
     },
     "metadata": {},
     "output_type": "display_data"
    },
    {
     "data": {
      "application/vnd.jupyter.widget-view+json": {
       "model_id": "b3004d37253c4ca2a5f27a12a693031c",
       "version_major": 2,
       "version_minor": 0
      },
      "text/plain": [
       "tokenizer.json:   0%|          | 0.00/466k [00:00<?, ?B/s]"
      ]
     },
     "metadata": {},
     "output_type": "display_data"
    },
    {
     "data": {
      "application/vnd.jupyter.widget-view+json": {
       "model_id": "efab96e0beac41a09e612d93699502aa",
       "version_major": 2,
       "version_minor": 0
      },
      "text/plain": [
       "special_tokens_map.json:   0%|          | 0.00/112 [00:00<?, ?B/s]"
      ]
     },
     "metadata": {},
     "output_type": "display_data"
    },
    {
     "data": {
      "application/vnd.jupyter.widget-view+json": {
       "model_id": "57351a13255f419d8bf3247bf0e9746e",
       "version_major": 2,
       "version_minor": 0
      },
      "text/plain": [
       "1_Pooling/config.json:   0%|          | 0.00/190 [00:00<?, ?B/s]"
      ]
     },
     "metadata": {},
     "output_type": "display_data"
    },
    {
     "data": {
      "text/plain": [
       "(5000, 384)"
      ]
     },
     "execution_count": 12,
     "metadata": {},
     "output_type": "execute_result"
    }
   ],
   "source": [
    "from sentence_transformers import SentenceTransformer\n",
    "\n",
    "model = SentenceTransformer(\"all-MiniLM-L6-v2\")\n",
    "\n",
    "product_name_embeddings = model.encode(products_df[\"product_name\"][0:num_products].tolist())\n",
    "product_name_embeddings.shape"
   ]
  },
  {
   "cell_type": "code",
   "execution_count": 13,
   "id": "6851df66-ded3-40f2-b252-c680a32921de",
   "metadata": {
    "height": 97
   },
   "outputs": [
    {
     "data": {
      "text/plain": [
       "(5000, 384)"
      ]
     },
     "execution_count": 13,
     "metadata": {},
     "output_type": "execute_result"
    }
   ],
   "source": [
    "product_description_embeddings = model.encode(products_df[\"product_description\"][0:num_products].tolist())\n",
    "product_description_embeddings.shape"
   ]
  },
  {
   "cell_type": "markdown",
   "id": "7a37469f-f754-48cb-a324-46b46f1c7f8b",
   "metadata": {},
   "source": [
    "### How `SentenceTransformer` Generates Embeddings per Sentence (RECAP)\n",
    "\n",
    "When using `SentenceTransformer`, the model encodes each product name (or sentence) as a single vector, capturing the entire sentence’s meaning. Here’s a breakdown of the process using the examples `\"Winter Jacket\"` and `\"Cozy Sweater\"`.\n",
    "\n",
    "#### Step-by-Step Process\n",
    "\n",
    "1. **Tokenization**: The model splits each product name into tokens based on its vocabulary.\n",
    "   - `\"Winter Jacket\"` → `[\"winter\", \"jacket\"]`\n",
    "   - `\"Cozy Sweater\"` → `[\"cozy\", \"sweater\"]`\n",
    "   \n",
    "   Each word (or subword, in the case of uncommon words) is represented by tokens that are mapped to unique IDs corresponding to the model’s pretrained embeddings.\n",
    "\n",
    "2. **Embedding Calculation**:\n",
    "   - After tokenization, each token is represented by an embedding from the model's vocabulary.\n",
    "   - The model combines these embeddings, typically by averaging or through weighted attention mechanisms, to produce a **single fixed-size vector** for each sentence.\n",
    "\n",
    "#### Final Output\n",
    "For each product name, a single vector represents the combined meaning of the sentence, reflecting the relationships between the tokens.\n",
    "\n",
    "### Example:\n",
    "- `\"Winter Jacket\"` results in **one embedding vector** representing the whole phrase.\n",
    "- `\"Cozy Sweater\"` results in **one embedding vector** for the entire phrase.\n",
    "\n",
    "The model does <font color=red>**not create separate embeddings**</font> for each word within a product name.\n"
   ]
  },
  {
   "cell_type": "markdown",
   "id": "5772c4de-db5e-448d-8eb1-4641c3b180b8",
   "metadata": {},
   "source": [
    "## Building the collection"
   ]
  },
  {
   "cell_type": "code",
   "execution_count": 17,
   "id": "fe5d79f4-38fe-4423-9e63-6c9bbf80d4ae",
   "metadata": {},
   "outputs": [
    {
     "data": {
      "text/plain": [
       "(42994,)"
      ]
     },
     "execution_count": 17,
     "metadata": {},
     "output_type": "execute_result"
    }
   ],
   "source": [
    "products_df.index.shape"
   ]
  },
  {
   "cell_type": "code",
   "execution_count": 23,
   "id": "714e8a0a-f0ac-4ef0-be10-cc0d5178fb4a",
   "metadata": {},
   "outputs": [
    {
     "data": {
      "text/plain": [
       "True"
      ]
     },
     "execution_count": 23,
     "metadata": {},
     "output_type": "execute_result"
    }
   ],
   "source": [
    "# Check the existence of collection\n",
    "client.collection_exists(collection_name=\"wands-products\")"
   ]
  },
  {
   "cell_type": "code",
   "execution_count": 28,
   "id": "a14d33dd-a4bb-4755-889d-55f482b7aff0",
   "metadata": {},
   "outputs": [
    {
     "data": {
      "text/plain": [
       "True"
      ]
     },
     "execution_count": 28,
     "metadata": {},
     "output_type": "execute_result"
    }
   ],
   "source": [
    "from qdrant_client import QdrantClient, models\n",
    "\n",
    "client = QdrantClient(\"http://localhost:6333\")\n",
    "client.delete_collection(\"wands-products\") # Delete any pre-existing collection named wands-products"
   ]
  },
  {
   "cell_type": "code",
   "execution_count": 29,
   "id": "bcd8a10b-1d6d-46eb-b3f7-b10231b204ad",
   "metadata": {},
   "outputs": [
    {
     "data": {
      "text/plain": [
       "False"
      ]
     },
     "execution_count": 29,
     "metadata": {},
     "output_type": "execute_result"
    }
   ],
   "source": [
    "client.collection_exists(collection_name=\"wands-products\")"
   ]
  },
  {
   "cell_type": "code",
   "execution_count": 30,
   "id": "74912810-c4ef-4373-86d6-77a095ef01ec",
   "metadata": {
    "height": 386
   },
   "outputs": [
    {
     "data": {
      "text/plain": [
       "True"
      ]
     },
     "execution_count": 30,
     "metadata": {},
     "output_type": "execute_result"
    }
   ],
   "source": [
    "# Create the collection\n",
    "client.create_collection(\n",
    "    collection_name=\"wands-products\",\n",
    "    vectors_config={\n",
    "        \"product_name\": models.VectorParams(size=384, distance=models.Distance.COSINE, ),\n",
    "        \"product_description\": models.VectorParams(size=384, distance=models.Distance.COSINE,),\n",
    "    },\n",
    "    optimizers_config=models.OptimizersConfigDiff(default_segment_number=2, indexing_threshold=1000,),\n",
    ")"
   ]
  },
  {
   "cell_type": "code",
   "execution_count": 44,
   "id": "ac9eb2f4-7059-40c7-9ca2-dee9f360622a",
   "metadata": {},
   "outputs": [
    {
     "data": {
      "text/plain": [
       "True"
      ]
     },
     "execution_count": 44,
     "metadata": {},
     "output_type": "execute_result"
    }
   ],
   "source": [
    "client.collection_exists(collection_name=\"wands-products\")"
   ]
  },
  {
   "cell_type": "code",
   "execution_count": 45,
   "id": "d3048612-7bf6-44b6-8271-0044399586c7",
   "metadata": {},
   "outputs": [
    {
     "name": "stdout",
     "output_type": "stream",
     "text": [
      "status=<CollectionStatus.GREEN: 'green'> optimizer_status=<OptimizersStatusOneOf.OK: 'ok'> vectors_count=None indexed_vectors_count=9088 points_count=5000 segments_count=2 config=CollectionConfig(params=CollectionParams(vectors={'product_description': VectorParams(size=384, distance=<Distance.COSINE: 'Cosine'>, hnsw_config=None, quantization_config=None, on_disk=None, datatype=None, multivector_config=None), 'product_name': VectorParams(size=384, distance=<Distance.COSINE: 'Cosine'>, hnsw_config=None, quantization_config=None, on_disk=None, datatype=None, multivector_config=None)}, shard_number=1, sharding_method=None, replication_factor=1, write_consistency_factor=1, read_fan_out_factor=None, on_disk_payload=True, sparse_vectors=None), hnsw_config=HnswConfig(m=16, ef_construct=100, full_scan_threshold=10000, max_indexing_threads=0, on_disk=False, payload_m=None), optimizer_config=OptimizersConfig(deleted_threshold=0.2, vacuum_min_vector_number=1000, default_segment_number=2, max_segment_size=None, memmap_threshold=None, indexing_threshold=1000, flush_interval_sec=5, max_optimization_threads=None), wal_config=WalConfig(wal_capacity_mb=32, wal_segments_ahead=0), quantization_config=None) payload_schema={}\n"
     ]
    }
   ],
   "source": [
    "# Check the details of the collection\n",
    "print(client.get_collection(collection_name=\"wands-products\"))"
   ]
  },
  {
   "cell_type": "markdown",
   "id": "c78b4d8e-da9d-4349-9b25-7c976095dbc8",
   "metadata": {},
   "source": [
    "<p style=\"background-color:orange; padding:15px; border-width:3px; border-color:#efe6ef; border-style:solid; border-radius:6px\"> The \"<b>ids</b>=products_df.<b>index</b>.tolist()\" part should insert entire 42k indices into the vector db, whereas, the embeddings have only 5000 entries <b>points count = 5000</b>. So, the part was not confirmed whether the excess indices cause any indexing issue in the db, although the functionalities work alright"
   ]
  },
  {
   "cell_type": "code",
   "execution_count": 41,
   "id": "671646d9-3403-4ef7-ae20-72af7fbdad96",
   "metadata": {
    "height": 199,
    "scrolled": true
   },
   "outputs": [],
   "source": [
    "client.upload_collection(\n",
    "    collection_name=\"wands-products\",\n",
    "    vectors={\n",
    "        \"product_name\": product_name_embeddings,\n",
    "        \"product_description\": product_description_embeddings,\n",
    "    },\n",
    "    payload=products_df.to_dict(orient=\"records\"), # Converting from an existing df\n",
    "    ids=products_df.index.tolist(), # Index of the existing df\n",
    "    batch_size=64, # The insert will be performed as batches of 64\n",
    ")"
   ]
  },
  {
   "cell_type": "code",
   "execution_count": 46,
   "id": "1e02ebb5-e9e2-4613-948a-655775249ea6",
   "metadata": {
    "height": 30
   },
   "outputs": [
    {
     "data": {
      "text/plain": [
       "CountResult(count=5000)"
      ]
     },
     "execution_count": 46,
     "metadata": {},
     "output_type": "execute_result"
    }
   ],
   "source": [
    "client.count(\"wands-products\") # Total count of the products"
   ]
  },
  {
   "cell_type": "code",
   "execution_count": 43,
   "id": "12272327-9e0f-4be4-b892-9fd32fcc0dca",
   "metadata": {},
   "outputs": [
    {
     "name": "stdout",
     "output_type": "stream",
     "text": [
      "status=<CollectionStatus.GREEN: 'green'> optimizer_status=<OptimizersStatusOneOf.OK: 'ok'> vectors_count=None indexed_vectors_count=9088 points_count=5000 segments_count=2 config=CollectionConfig(params=CollectionParams(vectors={'product_description': VectorParams(size=384, distance=<Distance.COSINE: 'Cosine'>, hnsw_config=None, quantization_config=None, on_disk=None, datatype=None, multivector_config=None), 'product_name': VectorParams(size=384, distance=<Distance.COSINE: 'Cosine'>, hnsw_config=None, quantization_config=None, on_disk=None, datatype=None, multivector_config=None)}, shard_number=1, sharding_method=None, replication_factor=1, write_consistency_factor=1, read_fan_out_factor=None, on_disk_payload=True, sparse_vectors=None), hnsw_config=HnswConfig(m=16, ef_construct=100, full_scan_threshold=10000, max_indexing_threads=0, on_disk=False, payload_m=None), optimizer_config=OptimizersConfig(deleted_threshold=0.2, vacuum_min_vector_number=1000, default_segment_number=2, max_segment_size=None, memmap_threshold=None, indexing_threshold=1000, flush_interval_sec=5, max_optimization_threads=None), wal_config=WalConfig(wal_capacity_mb=32, wal_segments_ahead=0), quantization_config=None) payload_schema={}\n"
     ]
    }
   ],
   "source": [
    "# Check the details of the collection\n",
    "print(client.get_collection(collection_name=\"wands-products\"))"
   ]
  },
  {
   "cell_type": "code",
   "execution_count": 47,
   "id": "3657ed96-81a5-409b-9502-9eaf551fe434",
   "metadata": {
    "height": 182
   },
   "outputs": [
    {
     "data": {
      "text/plain": [
       "CollectionInfo(status=<CollectionStatus.GREEN: 'green'>, optimizer_status=<OptimizersStatusOneOf.OK: 'ok'>, vectors_count=None, indexed_vectors_count=9088, points_count=5000, segments_count=2, config=CollectionConfig(params=CollectionParams(vectors={'product_description': VectorParams(size=384, distance=<Distance.COSINE: 'Cosine'>, hnsw_config=None, quantization_config=None, on_disk=None, datatype=None, multivector_config=None), 'product_name': VectorParams(size=384, distance=<Distance.COSINE: 'Cosine'>, hnsw_config=None, quantization_config=None, on_disk=None, datatype=None, multivector_config=None)}, shard_number=1, sharding_method=None, replication_factor=1, write_consistency_factor=1, read_fan_out_factor=None, on_disk_payload=True, sparse_vectors=None), hnsw_config=HnswConfig(m=16, ef_construct=100, full_scan_threshold=10000, max_indexing_threads=0, on_disk=False, payload_m=None), optimizer_config=OptimizersConfig(deleted_threshold=0.2, vacuum_min_vector_number=1000, default_segment_number=2, max_segment_size=None, memmap_threshold=None, indexing_threshold=1000, flush_interval_sec=5, max_optimization_threads=None), wal_config=WalConfig(wal_capacity_mb=32, wal_segments_ahead=0), quantization_config=None), payload_schema={})"
      ]
     },
     "execution_count": 47,
     "metadata": {},
     "output_type": "execute_result"
    }
   ],
   "source": [
    "import time\n",
    "\n",
    "time.sleep(1.0)\n",
    "collection = client.get_collection(\"wands-products\")\n",
    "while collection.status != models.CollectionStatus.GREEN: # Green = Vector DB Index ready\n",
    "    time.sleep(1.0)\n",
    "    collection = client.get_collection(\"wands-products\")\n",
    "    \n",
    "collection # Now we access the entire set of Collections when everything is ready"
   ]
  },
  {
   "cell_type": "markdown",
   "id": "a37e2887-5722-4288-bebf-8b780a22f16e",
   "metadata": {},
   "source": [
    "## Test queries"
   ]
  },
  {
   "cell_type": "markdown",
   "id": "594c16db-ce16-4a46-9bf0-687365d65229",
   "metadata": {},
   "source": [
    "<div>\n",
    "<img src=\"img/l4_relevancy_1.png\" width=\"400\"/>\n",
    "</div>"
   ]
  },
  {
   "cell_type": "markdown",
   "id": "d70c7326-14ce-46a4-a005-2703bab35d1d",
   "metadata": {},
   "source": [
    "<p style=\"background-color:#edfbff; padding:15px; border-width:3px; border-color:#efe6ef; border-style:solid; border-radius:6px\"> Some relevancy based metrics : <br>\n",
    "    <b><font color=\"blue\">Precision</b> = Correct positive predictions out of all the <b>predicted positives</b> <br>\n",
    "    <b><font color=\"blue\">Recall</b> = Correct positive predictions out of all the <b>actual positives</b> <br>\n",
    "    <b><font color=\"blue\">MRR</b> = Average of the <b>reciprocal ranks</b> of the first relevant result across all queries <br>\n",
    "    <b><font color=\"blue\">NDCG</b> = Measures the ranking quality by giving higher-weight to relevant documents at <b>top ranks</b>"
   ]
  },
  {
   "cell_type": "code",
   "execution_count": 49,
   "id": "daef2453-f14d-4d77-9f33-b9285bd71920",
   "metadata": {
    "height": 115
   },
   "outputs": [
    {
     "data": {
      "text/html": [
       "<div>\n",
       "<style scoped>\n",
       "    .dataframe tbody tr th:only-of-type {\n",
       "        vertical-align: middle;\n",
       "    }\n",
       "\n",
       "    .dataframe tbody tr th {\n",
       "        vertical-align: top;\n",
       "    }\n",
       "\n",
       "    .dataframe thead th {\n",
       "        text-align: right;\n",
       "    }\n",
       "</style>\n",
       "<table border=\"1\" class=\"dataframe\">\n",
       "  <thead>\n",
       "    <tr style=\"text-align: right;\">\n",
       "      <th></th>\n",
       "      <th>query</th>\n",
       "      <th>query_class</th>\n",
       "    </tr>\n",
       "    <tr>\n",
       "      <th>query_id</th>\n",
       "      <th></th>\n",
       "      <th></th>\n",
       "    </tr>\n",
       "  </thead>\n",
       "  <tbody>\n",
       "    <tr>\n",
       "      <th>0</th>\n",
       "      <td>salon chair</td>\n",
       "      <td>Massage Chairs</td>\n",
       "    </tr>\n",
       "    <tr>\n",
       "      <th>1</th>\n",
       "      <td>smart coffee table</td>\n",
       "      <td>Coffee &amp; Cocktail Tables</td>\n",
       "    </tr>\n",
       "    <tr>\n",
       "      <th>2</th>\n",
       "      <td>dinosaur</td>\n",
       "      <td>Kids Wall Décor</td>\n",
       "    </tr>\n",
       "    <tr>\n",
       "      <th>3</th>\n",
       "      <td>turquoise pillows</td>\n",
       "      <td>Accent Pillows</td>\n",
       "    </tr>\n",
       "    <tr>\n",
       "      <th>4</th>\n",
       "      <td>chair and a half recliner</td>\n",
       "      <td>Recliners</td>\n",
       "    </tr>\n",
       "  </tbody>\n",
       "</table>\n",
       "</div>"
      ],
      "text/plain": [
       "                              query               query_class\n",
       "query_id                                                     \n",
       "0                       salon chair            Massage Chairs\n",
       "1                smart coffee table  Coffee & Cocktail Tables\n",
       "2                          dinosaur           Kids Wall Décor\n",
       "3                 turquoise pillows            Accent Pillows\n",
       "4         chair and a half recliner                 Recliners"
      ]
     },
     "execution_count": 49,
     "metadata": {},
     "output_type": "execute_result"
    }
   ],
   "source": [
    "queries_df = pd.read_csv(\n",
    "    \"data/WANDS/query.csv\", \n",
    "    sep=\"\\t\", \n",
    "    index_col=\"query_id\",\n",
    ")\n",
    "queries_df.head()"
   ]
  },
  {
   "cell_type": "markdown",
   "id": "50dc985b-24e4-46a6-a94c-ecee4545249a",
   "metadata": {},
   "source": [
    "## Ground truth"
   ]
  },
  {
   "cell_type": "code",
   "execution_count": 50,
   "id": "455e1f41-e3a1-4366-bfac-44e6ac191aba",
   "metadata": {
    "height": 98
   },
   "outputs": [
    {
     "data": {
      "text/html": [
       "<div>\n",
       "<style scoped>\n",
       "    .dataframe tbody tr th:only-of-type {\n",
       "        vertical-align: middle;\n",
       "    }\n",
       "\n",
       "    .dataframe tbody tr th {\n",
       "        vertical-align: top;\n",
       "    }\n",
       "\n",
       "    .dataframe thead th {\n",
       "        text-align: right;\n",
       "    }\n",
       "</style>\n",
       "<table border=\"1\" class=\"dataframe\">\n",
       "  <thead>\n",
       "    <tr style=\"text-align: right;\">\n",
       "      <th></th>\n",
       "      <th>id</th>\n",
       "      <th>query_id</th>\n",
       "      <th>product_id</th>\n",
       "      <th>label</th>\n",
       "    </tr>\n",
       "  </thead>\n",
       "  <tbody>\n",
       "    <tr>\n",
       "      <th>25454</th>\n",
       "      <td>25458</td>\n",
       "      <td>174</td>\n",
       "      <td>32869</td>\n",
       "      <td>Irrelevant</td>\n",
       "    </tr>\n",
       "    <tr>\n",
       "      <th>144722</th>\n",
       "      <td>145289</td>\n",
       "      <td>351</td>\n",
       "      <td>35496</td>\n",
       "      <td>Partial</td>\n",
       "    </tr>\n",
       "    <tr>\n",
       "      <th>108499</th>\n",
       "      <td>108651</td>\n",
       "      <td>215</td>\n",
       "      <td>17770</td>\n",
       "      <td>Partial</td>\n",
       "    </tr>\n",
       "    <tr>\n",
       "      <th>203703</th>\n",
       "      <td>204270</td>\n",
       "      <td>0</td>\n",
       "      <td>22573</td>\n",
       "      <td>Partial</td>\n",
       "    </tr>\n",
       "    <tr>\n",
       "      <th>25248</th>\n",
       "      <td>25252</td>\n",
       "      <td>171</td>\n",
       "      <td>38069</td>\n",
       "      <td>Partial</td>\n",
       "    </tr>\n",
       "  </tbody>\n",
       "</table>\n",
       "</div>"
      ],
      "text/plain": [
       "            id  query_id  product_id       label\n",
       "25454    25458       174       32869  Irrelevant\n",
       "144722  145289       351       35496     Partial\n",
       "108499  108651       215       17770     Partial\n",
       "203703  204270         0       22573     Partial\n",
       "25248    25252       171       38069     Partial"
      ]
     },
     "execution_count": 50,
     "metadata": {},
     "output_type": "execute_result"
    }
   ],
   "source": [
    "labels_df = pd.read_csv(\n",
    "    \"data/WANDS/label.csv\", \n",
    "    sep=\"\\t\", \n",
    ")\n",
    "labels_df.sample(n=5)"
   ]
  },
  {
   "cell_type": "markdown",
   "id": "bc3f4cf4-3e79-4faf-8679-4c19c7050083",
   "metadata": {},
   "source": [
    "Now we have  \n",
    "- `products_df` mapping all the products and their details\n",
    "- `queries_df` mapping all the queries only\n",
    "- `labels_df` mapping all ground truths, combining relevant `query-product-label`"
   ]
  },
  {
   "cell_type": "code",
   "execution_count": 59,
   "id": "59973db1-41f7-4fb9-b03b-f85c0e05099d",
   "metadata": {},
   "outputs": [
    {
     "name": "stdout",
     "output_type": "stream",
     "text": [
      "Query id 2 : query                 dinosaur\n",
      "query_class    Kids Wall Décor\n",
      "Name: 2, dtype: object\n",
      "          id  query_id  product_id  label\n",
      "252      252         2        4205  Exact\n",
      "253      253         2        4202  Exact\n",
      "254      254         2        4204  Exact\n",
      "255      255         2       36622  Exact\n",
      "256      256         2       29777  Exact\n",
      "...      ...       ...         ...    ...\n",
      "406      406         2       42516  Exact\n",
      "21668  21668         2       18868  Exact\n",
      "21669  21669         2       24099  Exact\n",
      "21670  21670         2       21055  Exact\n",
      "21671  21671         2       23033  Exact\n",
      "\n",
      "[151 rows x 4 columns]\n"
     ]
    }
   ],
   "source": [
    "# Printing the query_id 2\n",
    "print(f'Query id 2 : {queries_df.loc[2]}')\n",
    "\n",
    "# To see a particular query in multiple entries showing different level of matches\n",
    "print(labels_df[(labels_df['query_id'] == 2) & (labels_df['label'] == 'Exact')])"
   ]
  },
  {
   "cell_type": "code",
   "execution_count": 60,
   "id": "0bc73f36-ce2c-45d6-b2e6-834e7b7fe24d",
   "metadata": {
    "height": 199
   },
   "outputs": [
    {
     "data": {
      "text/html": [
       "<div>\n",
       "<style scoped>\n",
       "    .dataframe tbody tr th:only-of-type {\n",
       "        vertical-align: middle;\n",
       "    }\n",
       "\n",
       "    .dataframe tbody tr th {\n",
       "        vertical-align: top;\n",
       "    }\n",
       "\n",
       "    .dataframe thead th {\n",
       "        text-align: right;\n",
       "    }\n",
       "</style>\n",
       "<table border=\"1\" class=\"dataframe\">\n",
       "  <thead>\n",
       "    <tr style=\"text-align: right;\">\n",
       "      <th></th>\n",
       "      <th>id</th>\n",
       "      <th>query_id</th>\n",
       "      <th>product_id</th>\n",
       "      <th>label</th>\n",
       "      <th>score</th>\n",
       "    </tr>\n",
       "  </thead>\n",
       "  <tbody>\n",
       "    <tr>\n",
       "      <th>20856</th>\n",
       "      <td>20856</td>\n",
       "      <td>query_141</td>\n",
       "      <td>doc_15654</td>\n",
       "      <td>Partial</td>\n",
       "      <td>5</td>\n",
       "    </tr>\n",
       "    <tr>\n",
       "      <th>57438</th>\n",
       "      <td>57589</td>\n",
       "      <td>query_454</td>\n",
       "      <td>doc_16769</td>\n",
       "      <td>Partial</td>\n",
       "      <td>5</td>\n",
       "    </tr>\n",
       "    <tr>\n",
       "      <th>176526</th>\n",
       "      <td>177093</td>\n",
       "      <td>query_426</td>\n",
       "      <td>doc_13573</td>\n",
       "      <td>Irrelevant</td>\n",
       "      <td>0</td>\n",
       "    </tr>\n",
       "    <tr>\n",
       "      <th>122793</th>\n",
       "      <td>122967</td>\n",
       "      <td>query_257</td>\n",
       "      <td>doc_24187</td>\n",
       "      <td>Partial</td>\n",
       "      <td>5</td>\n",
       "    </tr>\n",
       "    <tr>\n",
       "      <th>184846</th>\n",
       "      <td>185413</td>\n",
       "      <td>query_439</td>\n",
       "      <td>doc_23602</td>\n",
       "      <td>Irrelevant</td>\n",
       "      <td>0</td>\n",
       "    </tr>\n",
       "  </tbody>\n",
       "</table>\n",
       "</div>"
      ],
      "text/plain": [
       "            id   query_id product_id       label  score\n",
       "20856    20856  query_141  doc_15654     Partial      5\n",
       "57438    57589  query_454  doc_16769     Partial      5\n",
       "176526  177093  query_426  doc_13573  Irrelevant      0\n",
       "122793  122967  query_257  doc_24187     Partial      5\n",
       "184846  185413  query_439  doc_23602  Irrelevant      0"
      ]
     },
     "execution_count": 60,
     "metadata": {},
     "output_type": "execute_result"
    }
   ],
   "source": [
    "relevancy_scores = {\n",
    "    \"Exact\": 10,\n",
    "    \"Partial\": 5,\n",
    "    \"Irrelevant\": 0,\n",
    "}\n",
    "\n",
    "labels_df[\"score\"] = labels_df[\"label\"].map(relevancy_scores.get) # .map() applies the function relevancy_scores.get() on each row of the labels_df[\"label\"]\n",
    "labels_df[\"query_id\"] = labels_df[\"query_id\"].map(lambda x: f\"query_{x}\") # Takes the row value \"x\", then applies it with a prefix \"query_\" to make it query_x\n",
    "labels_df[\"product_id\"] = labels_df[\"product_id\"].map(lambda x: f\"doc_{x}\")\n",
    "labels_df.sample(n=5) # Shows a random sample of 5 rows"
   ]
  },
  {
   "cell_type": "markdown",
   "id": "0f5c3d1c-9ec0-43c9-a24f-12b646c4ffbc",
   "metadata": {},
   "source": [
    "## ranx"
   ]
  },
  {
   "cell_type": "markdown",
   "id": "fa77454f-3aaa-4487-99cb-2fb2082d6ca9",
   "metadata": {},
   "source": [
    "<p style=\"background-color:#edfbff; padding:15px; border-width:3px; border-color:#efe6ef; border-style:solid; border-radius:6px\"> The evaluation metrics operate on <b>Qrels = Query Relvancies</b> and <b>Runs = Output of the models</b> and then cross compare to give us the result of relevant metrics"
   ]
  },
  {
   "cell_type": "code",
   "execution_count": 61,
   "id": "b6c9f6ec-7612-4fc0-9de5-fe9af772e8b4",
   "metadata": {
    "height": 165
   },
   "outputs": [
    {
     "ename": "ModuleNotFoundError",
     "evalue": "No module named 'ranx'",
     "output_type": "error",
     "traceback": [
      "\u001b[1;31m---------------------------------------------------------------------------\u001b[0m",
      "\u001b[1;31mModuleNotFoundError\u001b[0m                       Traceback (most recent call last)",
      "Cell \u001b[1;32mIn[61], line 1\u001b[0m\n\u001b[1;32m----> 1\u001b[0m \u001b[38;5;28;01mfrom\u001b[39;00m \u001b[38;5;21;01mranx\u001b[39;00m \u001b[38;5;28;01mimport\u001b[39;00m Qrels\n\u001b[0;32m      3\u001b[0m \u001b[38;5;66;03m# Create a Qrels (Query Relevance) dictionary from df \u001b[39;00m\n\u001b[0;32m      4\u001b[0m qrels \u001b[38;5;241m=\u001b[39m Qrels\u001b[38;5;241m.\u001b[39mfrom_df(\n\u001b[0;32m      5\u001b[0m     labels_df\u001b[38;5;241m.\u001b[39mastype({\u001b[38;5;124m\"\u001b[39m\u001b[38;5;124mquery_id\u001b[39m\u001b[38;5;124m\"\u001b[39m: \u001b[38;5;124m\"\u001b[39m\u001b[38;5;124mstr\u001b[39m\u001b[38;5;124m\"\u001b[39m, \u001b[38;5;124m\"\u001b[39m\u001b[38;5;124mproduct_id\u001b[39m\u001b[38;5;124m\"\u001b[39m: \u001b[38;5;124m\"\u001b[39m\u001b[38;5;124mstr\u001b[39m\u001b[38;5;124m\"\u001b[39m}),\n\u001b[0;32m      6\u001b[0m     q_id_col\u001b[38;5;241m=\u001b[39m\u001b[38;5;124m\"\u001b[39m\u001b[38;5;124mquery_id\u001b[39m\u001b[38;5;124m\"\u001b[39m,\n\u001b[0;32m      7\u001b[0m     doc_id_col\u001b[38;5;241m=\u001b[39m\u001b[38;5;124m\"\u001b[39m\u001b[38;5;124mproduct_id\u001b[39m\u001b[38;5;124m\"\u001b[39m, \n\u001b[0;32m      8\u001b[0m     score_col\u001b[38;5;241m=\u001b[39m\u001b[38;5;124m\"\u001b[39m\u001b[38;5;124mscore\u001b[39m\u001b[38;5;124m\"\u001b[39m,\n\u001b[0;32m      9\u001b[0m )\n",
      "\u001b[1;31mModuleNotFoundError\u001b[0m: No module named 'ranx'"
     ]
    }
   ],
   "source": [
    "from ranx import Qrels\n",
    "\n",
    "# Create a Qrels (Query Relevance) dictionary from df \n",
    "qrels = Qrels.from_df(\n",
    "    labels_df.astype({\"query_id\": \"str\", \"product_id\": \"str\"}),\n",
    "    q_id_col=\"query_id\",\n",
    "    doc_id_col=\"product_id\", \n",
    "    score_col=\"score\",\n",
    ")"
   ]
  },
  {
   "cell_type": "markdown",
   "id": "e85e2d9f-68d7-40f6-ae33-2409df8d4888",
   "metadata": {},
   "source": [
    "### Running all the queries"
   ]
  },
  {
   "cell_type": "code",
   "execution_count": null,
   "id": "cbb4b03d-a3b8-4456-9615-3e4bf86ed19e",
   "metadata": {
    "height": 97
   },
   "outputs": [],
   "source": [
    "# Encode every query and store them in a separate column in the queries_df\n",
    "queries_df[\"query_embedding\"] = model.encode(queries_df[\"query\"].tolist()).tolist()\n",
    "queries_df.sample(n=5)"
   ]
  },
  {
   "cell_type": "code",
   "execution_count": null,
   "id": "5e99b0fe-8723-4193-aec4-7af50f4d296d",
   "metadata": {
    "height": 403
   },
   "outputs": [],
   "source": [
    "from collections import defaultdict\n",
    "\n",
    "name_run_dict = defaultdict(dict)\n",
    "for id, row in queries_df.iterrows():\n",
    "    query_id = f\"query_{id}\"\n",
    "    \n",
    "    results = client.search(\n",
    "        collection_name=\"wands-products\",\n",
    "        query_vector=models.NamedVector(\n",
    "            name=\"product_name\", \n",
    "            vector=row[\"query_embedding\"]\n",
    "        ),\n",
    "        with_vectors=False,\n",
    "        with_payload=False,\n",
    "        limit=100,\n",
    "    )\n",
    "\n",
    "    for point in results:\n",
    "        document_id = f\"doc_{point.id}\"\n",
    "        name_run_dict[query_id][document_id] = point.score  \n",
    "    \n",
    "name_run_dict"
   ]
  },
  {
   "cell_type": "code",
   "execution_count": null,
   "id": "594722c8-24b0-496b-9859-943071bc7b78",
   "metadata": {
    "height": 80
   },
   "outputs": [],
   "source": [
    "from ranx import Run\n",
    "\n",
    "product_name_run = Run(name_run_dict, name=\"product_name\")"
   ]
  },
  {
   "cell_type": "code",
   "execution_count": null,
   "id": "0abca87e-db68-498e-b137-d00a77f034b3",
   "metadata": {
    "height": 420
   },
   "outputs": [],
   "source": [
    "description_run_dict = defaultdict(dict)\n",
    "for id, row in queries_df.iterrows():\n",
    "    query_id = f\"query_{id}\"\n",
    "    \n",
    "    results = client.search(\n",
    "        collection_name=\"wands-products\",\n",
    "        query_vector=models.NamedVector(\n",
    "            name=\"product_description\", \n",
    "            vector=row[\"query_embedding\"]\n",
    "        ),\n",
    "        with_vectors=False,\n",
    "        with_payload=False,\n",
    "        limit=100,\n",
    "    )\n",
    "\n",
    "    for point in results:\n",
    "        document_id = f\"doc_{point.id}\"\n",
    "        description_run_dict[query_id][document_id] = point.score \n",
    "\n",
    "product_description_run = Run(\n",
    "    description_run_dict, \n",
    "    name=\"product_description\"\n",
    ")"
   ]
  },
  {
   "cell_type": "code",
   "execution_count": null,
   "id": "ccd22755-1115-4d9a-8ddb-3f3b2128941c",
   "metadata": {
    "height": 285
   },
   "outputs": [],
   "source": [
    "from ranx import compare\n",
    "\n",
    "compare(\n",
    "    qrels=qrels,\n",
    "    runs=[\n",
    "        product_name_run, \n",
    "        product_description_run\n",
    "    ],\n",
    "    metrics=[\n",
    "        \"precision@10\", \n",
    "        \"recall@10\", \n",
    "        \"mrr@10\",\n",
    "        \"dcg@10\", \n",
    "        \"ndcg@10\",\n",
    "    ],\n",
    ")"
   ]
  },
  {
   "cell_type": "code",
   "execution_count": null,
   "id": "3bf5ca5b-3b56-4b17-b647-d91bf0a6b33e",
   "metadata": {
    "height": 30
   },
   "outputs": [],
   "source": []
  },
  {
   "cell_type": "code",
   "execution_count": null,
   "id": "963521e9-bab7-4021-b21a-4775f38c994b",
   "metadata": {
    "height": 30
   },
   "outputs": [],
   "source": []
  },
  {
   "cell_type": "code",
   "execution_count": null,
   "id": "7500af15-5de5-498b-b098-6d1554783257",
   "metadata": {
    "height": 30
   },
   "outputs": [],
   "source": []
  },
  {
   "cell_type": "code",
   "execution_count": null,
   "id": "93ffe74e-968f-4b37-ab73-5686c18a8af7",
   "metadata": {
    "height": 30
   },
   "outputs": [],
   "source": []
  },
  {
   "cell_type": "code",
   "execution_count": null,
   "id": "ee843700-b778-4af3-901c-53d420b12f51",
   "metadata": {
    "height": 30
   },
   "outputs": [],
   "source": []
  },
  {
   "cell_type": "code",
   "execution_count": null,
   "id": "720a62bb-7713-4e88-acb1-621e1da38203",
   "metadata": {
    "height": 30
   },
   "outputs": [],
   "source": []
  },
  {
   "cell_type": "code",
   "execution_count": null,
   "id": "a0b8b6fc-ccac-4e52-96a7-a3fe610b62c8",
   "metadata": {
    "height": 30
   },
   "outputs": [],
   "source": []
  }
 ],
 "metadata": {
  "kernelspec": {
   "display_name": "rag",
   "language": "python",
   "name": "rag"
  },
  "language_info": {
   "codemirror_mode": {
    "name": "ipython",
    "version": 3
   },
   "file_extension": ".py",
   "mimetype": "text/x-python",
   "name": "python",
   "nbconvert_exporter": "python",
   "pygments_lexer": "ipython3",
   "version": "3.12.4"
  }
 },
 "nbformat": 4,
 "nbformat_minor": 5
}
